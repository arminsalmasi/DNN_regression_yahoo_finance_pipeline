{
 "cells": [
  {
   "cell_type": "code",
   "execution_count": 1,
   "metadata": {},
   "outputs": [
    {
     "name": "stderr",
     "output_type": "stream",
     "text": [
      "C:\\Users\\salmasi\\.conda\\envs\\tensorflow2\\lib\\site-packages\\pandas_datareader\\compat\\__init__.py:7: FutureWarning: pandas.util.testing is deprecated. Use the functions in the public API at pandas.testing instead.\n",
      "  from pandas.util.testing import assert_frame_equal\n"
     ]
    }
   ],
   "source": [
    "from get_all_tickers import get_tickers as gt\n",
    "import yfinance as yf\n",
    "from pandas_datareader import data as pdr\n",
    "import pandas as pd\n",
    "from datetime import date\n",
    "import os\n",
    "from os import path\n",
    "import shutil  "
   ]
  },
  {
   "cell_type": "code",
   "execution_count": 2,
   "metadata": {},
   "outputs": [],
   "source": [
    "list_of_tickers = gt.get_tickers()\n",
    "gt.save_tickers()\n",
    "alltickers=pd.read_csv('tickers.csv')\n",
    "#tickers=alltickers['DDD'][:]\n",
    "tickers=alltickers['DDD'][0:10]\n",
    "tickers=['aapl','ibm']"
   ]
  },
  {
   "cell_type": "code",
   "execution_count": 3,
   "metadata": {},
   "outputs": [
    {
     "name": "stdout",
     "output_type": "stream",
     "text": [
      "[*********************100%***********************]  1 of 1 completed\n",
      "[*********************100%***********************]  1 of 1 completed\n"
     ]
    }
   ],
   "source": [
    "if path.exists(\"data\"):\n",
    "    shutil.rmtree(\"data\")  \n",
    "try:\n",
    "    os.mkdir(\"data\")\n",
    "except OSError as e:\n",
    "    print(\"Error: %s : %s\" % (\"data\", e.strerror))\n",
    "today=str(date.today())\n",
    "startdate=\"2010-01-01\"\n",
    "# dictionary of dataframes kes=tickers\n",
    "dfs={}\n",
    "yf.pdr_override() \n",
    "for ticker in tickers:\n",
    "    dfs[ticker]=(pdr.get_data_yahoo(ticker, start=startdate, end=today))\n",
    "    dfs[ticker].to_csv(\"data\\\\\"+ticker+\".csv\")"
   ]
  },
  {
   "cell_type": "code",
   "execution_count": null,
   "metadata": {},
   "outputs": [],
   "source": []
  },
  {
   "cell_type": "code",
   "execution_count": null,
   "metadata": {},
   "outputs": [],
   "source": []
  }
 ],
 "metadata": {
  "kernelspec": {
   "display_name": "Python 3",
   "language": "python",
   "name": "python3"
  },
  "language_info": {
   "codemirror_mode": {
    "name": "ipython",
    "version": 3
   },
   "file_extension": ".py",
   "mimetype": "text/x-python",
   "name": "python",
   "nbconvert_exporter": "python",
   "pygments_lexer": "ipython3",
   "version": "3.8.3"
  }
 },
 "nbformat": 4,
 "nbformat_minor": 4
}
